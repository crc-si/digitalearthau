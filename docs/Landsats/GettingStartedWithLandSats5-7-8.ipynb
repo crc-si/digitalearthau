{
 "cells": [
  {
   "cell_type": "markdown",
   "metadata": {},
   "source": [
    "## Getting started with Landsat data  \n",
    "\n",
    "#### <a href=\"#expert\"><b>SKIP THE INTRO</b></a>\n",
    "\n",
    "**Background:** Data  from three Landsats (5,7 and 8) are available to access within DEA. This document is a detailed description about the data and how to retrieve it. The code snippets in this doc should let you examine the data. The descriptions about the satellites and data structure are for the beginners. if you are an expert user of the system, you can <a href=\"#expert\"><b>skip those sections</b></a>.\n",
    "\n",
    "**What does this document do?**\n",
    "\n",
    "- Explain some facts about the satellite, how the observations are made, how the data is collected, etc. \n",
    "    - This info is for a beginner user. Skip it if you are already familiar with the satellite(s) and their data.\n",
    "\n",
    "- Show how to open a datacube to retrieve the data for various time points and geo-coordinates.\n",
    "\n",
    "- Explain the data corrections.\n",
    "\n",
    "- Plot a scene as true colour image.\n",
    "\n",
    "- Plot the same as false colour image.\n",
    "\n",
    "- Compare some scenes side-by-side.\n",
    "\n",
    "- Filter scenes using pixel quality.\n",
    "\n",
    "- Mask a cloudy image.\n",
    "\n",
    "- Plot up the pixel quality information for the same scene.\n",
    "\n",
    "- Use the pixel quality information to create a mask, and apply it to the spectral data\n",
    "\n",
    "\n",
    "\n"
   ]
  },
  {
   "cell_type": "markdown",
   "metadata": {},
   "source": [
    "## About Landsats\n",
    "\n",
    "At over 40 years, the Landsat series of satellites provides the longest temporal record of moderate resolution multispectral data of the Earth's surface on a global basis. The Landsat record has remained remarkably unbroken, proving a unique resource to assist a broad range of specialists in managing the world's food, water, forests, and other natural resources for a growing world population.  It is a record unmatched in quality, detail, coverage, and value.\n",
    "\n",
    "Landsat represents the world's longest continuously acquired collection of space-based moderate-resolution land remote sensing data. Four decades of imagery provides a unique resource for those who work in agriculture, geology, forestry, regional planning, education, mapping, and global change research. Landsat images are also invaluable for emergency response and disaster relief.\n",
    "\n",
    "As a joint initiative between the U.S. Geological Survey (USGS) and NASA, the Landsat Project and the data it collects support government, commercial, industrial, civilian, military, and educational communities throughout the United States and worldwide.\n",
    "\n",
    "**Landsat Missions TimeLine**<sup>[[1](https://landsat.usgs.gov/landsat-missions-timeline)]</sup>\n",
    "\n",
    "In the mid-1960s an ambitious effort to develop and launch the first civilian Earth observation satellite was started. The goal was achieved on July 23, 1972, with the launch of the Earth Resources Technology Satellite (ERTS-1), which was later renamed Landsat 1. The launches of Landsat 2, Landsat 3, and Landsat 4 followed in 1975, 1978, and 1982, respectively.\n",
    "\n",
    "<img src=\"landsats1-8.png\">\n",
    "\n",
    "When Landsat 5 was launched in 1984, no one could have predicted that the satellite would continue to deliver high quality, global data of Earth's land surfaces for 28 years and 10 months. Landsat 6, however, failed to achieve orbit in 1993.\n",
    "\n",
    "Landsat 7 was successfully launched in 1999 and, along with Landsat 8, launched in 2013, continues to provide daily global data. Landsat 9 is planned to be launched in late 2020.\n",
    "\n",
    "Given below is a timeline of the various Landsats.\n",
    "\n",
    "<img src=\"TimelineOnlyForWebRGB.jpg\">\n",
    "\n",
    "Fig 1. Timeline of the working lives of Landsats since 1972<sup>[[1](https://landsat.usgs.gov/landsat-missions-timeline)]</sup>"
   ]
  },
  {
   "cell_type": "markdown",
   "metadata": {},
   "source": [
    "## Basic details of the Landsats 5 to 9\n",
    "\n",
    "| Name | Launch Date | End Date | Sensors | Orbit | Repeat Cycle | Bands | Data Rate | \n",
    "| -----|-------------|----------|--------------------|----------|-------|--------------|-----------|\n",
    "| Landsat_5 | Mar 1, 1984 | June 5, 2013 | MSS, TM | Sun-synchronous, near-polar orbit at 705km | 16 days | 7 | 85 Mbps |\n",
    "| Landsat_6 | Oct 5, 1993 | (did not achieve orbit) ||||||\n",
    "| Landsat_7 | Apr 15, 1999 | Current | ETM+ | Do. | 16 days | 8 | 150 Mbps |\n",
    "| Landsat_8 | Feb 11, 2013 | Current | OLI, TIRS | Do. | 16 days | 11 | 260.92 and 384&nbsp;Mbps |\n",
    "| Landsat_9 | Dec, 2020 | 5 years from launch | OLI-2, TIRS-2| Sun-synchronous orbit at an altitude of 438 miles | 16 days | 11 | 384 Mbps |\n",
    "\n",
    "Table 1. Details of the different landsats\n"
   ]
  },
  {
   "cell_type": "markdown",
   "metadata": {},
   "source": [
    "## Explanation of terms\n",
    "\n",
    "All these satellites orbit over the polar regions, and take 98.9 minutes to complete one cycle around the Earth at a speed of 7.5 km per sec. It means there will be 14.56 cycles per day. The orbit is inclined at 98.2&deg; and, therefore, each cycle moves the path to the East at a rate equal to the rotation of Earth (\"sun-synchronous\"). Therefore, the clock time it passes a point on the Earth's surface remains the same in every cycle. For Landsat 5 it was 9:45am +/- 15 minutes when it passes over the equator, and for Landsats 7 and 8 it is 10am +/- 15 minutes. (*Question: Not sure why the +/- 15 variability. How does it correct over subsequent passes? If the Sun shows the same variability, we will be in big trouble!*). The satellites cover the entire face of Earth in 16 days, as explained below.\n",
    "\n",
    "### The \"Swath\"\n",
    "Everytime it passes over Earth, the sateliites scan the surface as a band of 185km in width, which is called **swath**. The equatorial circumference of Earth is 40,075 km and therefore a band of 172 km is required to cover the entire surface in 16 days at 14.56 cycles per day (40,075 / (16 * 14.56) = 172). A swath of 185 km means that there will be an overlap of 7.3&deg; (172 + 7.3% = 184.56) at the equator, and increasing overlaps moving towards North and South. Fig 2 below shows how the swath pattern looks like over North America.\n",
    "\n",
    "<img src=\"Landsat_7_swath.jpg\">\n",
    "\n",
    "Fig 2. Landsat 7 ETM+ swath separations for single day (left) and a full 16-day cycle (right)<sup>[[2](https://landsat.usgs.gov/landsat-7-data-users-handbook-section-2)]</sup>\n",
    "\n",
    "Given below is a pattern of swaths for just over a day across the globe. Green lines are \"ascending\" (going North) and blue are \"descending\"<sup>[[3](https://landsat.usgs.gov/landsat_acq#acquisitionCalendar)]</sup>.\n",
    "\n",
    "<img src=\"Landsat_8_aquisition_pattern.JPG\">\n",
    "\n",
    "Fig 3. Pattern of swaths across the globe in a single day. \n",
    "\n"
   ]
  },
  {
   "cell_type": "markdown",
   "metadata": {},
   "source": [
    "### \"Rows\",  \"Paths\" and \"Scenes\"\n",
    "\n",
    "Since the satellite is passing in a N-S direction, and the inclination makes it move Eastwards, there are two kinds of coverage. The North-South (or vice versa; \"vertical\") coverage is called **Row** and West to East coverage is called **Path** (\"horizontal\"). Let us examine below what these mean.\n",
    "\n",
    "A **row** maybe defined as the surface distance covered in 23.92 seconds of the satellite's motion in the vertical direction. The polar circumference of the Earth is 39,931 km and the satellite covers it in 98.9 min. Thus, in 23.92 seconds the satellite will cover 161 km (39,931/(98.9\\*60) * 23.92 = 160.96) in either direction. Hence, there will be **248 rows per day** (39931/161 = 248).\n",
    "\n",
    "The rows have been assigned in such a way that Row 60 coincides with the Equator (descending node). Row 1 of each path starts at 80° 46' N and the numbering increases southward to latitude 81° 51' S (Row 122). Then, beginning with Row 123, the row numbers ascend northward, cross the Equator (Row 184) and continue to latitude 81° 51' N (Row 246). Row 248 is located at latitude 81° 21' N, whereupon the next path begins.\n",
    "\n",
    "The **path** is defined as the width of swath, which is 172 km at the equator (allowing for the overlap of 7.3% with the actual width of 185 km) and there will be 233 paths to cover the entire surface (40,075 / 172 = 232.99). Hence, there will be **233 paths per 16 days**, the time it takes to cover the full surface.\n",
    "\n",
    "The **scene** is a composite picture captured in 23.92 seconds, as the satellite passes over. Now that we know that the swath is 185 km and row is 161 km, the dimensions of each scene will be 185 x 161 km. Also, there can be a total of 57,784 possible scenes (248 rows * 233 paths) to be captured in a 16-day cycle. The actual number of scenes captured (\"acquisitions\") is much less that this, and we shall see about it below.\n"
   ]
  },
  {
   "cell_type": "markdown",
   "metadata": {},
   "source": [
    "### \"Acquisitions\"\n",
    "\n",
    "Even though there are 57,784 possible scenes in 16 days (or 3,612 per day) the number of acquisitions by landsat 7 averages around 450 per day, and that by landsat 8 averages around 650 per day <sup>[[4](https://landsat.usgs.gov/landsat-7-data-users-handbook-section-1)]</sup>. \n",
    "\n",
    "The ETM+ sensor does not continually acquire imagery data as it orbits the Earth. Instead, acquisitions are scheduled in advance using the Landsat 7 Long Term Acquisition Plan (LTAP), data files in conjunction with a software scheduler. The scheduler automatically selects the best scenes in accordance with the LTAP, basing these decisions on cloud-cover forecasts, urgency of acquisition, and availability of resources to optimize fulfillment of the overall Landsat 7 mission goals.\n",
    "\n",
    "Acquisitions are also limited by physical constraints of the instrument. Cloud avoidance is a major factor in the selection of the scenes rejected. The benefits of this acquisition strategy are an increase in the number of scenes that can be acquired, along with a reduction in instrument duty cycle and the number of power cycles required. The goal is to acquire more images with more frequent revisits over the continental land masses without increasing risk to the mission.\n",
    "\n",
    "**The factors that are considered during scheduling are:**\n",
    "\n",
    "-\tSeasonality of vegetated regions, as well as niche-science communities with specific acquisition needs\n",
    "-\tPredicted vs. nominal cloud-cover (forecast vs. statistical assessments)\n",
    "-\tSolar elevation angle (especially important at high latitudes)\n",
    "-\tMissed opportunities for previous acquisitions\n",
    "-\tQuality (based on cloud-cover assessments) of previous acquisitions\n",
    "-\tScene clustering (for continuity of swath observations)\n",
    "-\tSystem constraints (e.g., instrument duty cycle, ground station locations and functionality, recorder capacity)\n",
    "\n",
    "**Also, niche communities initially sponsored the following locations and associated time windows:**\n",
    "\n",
    "-\t282 agriculture areas (acquire every season if cloud cover predict < 60%)\n",
    "-\t35 calibration sites (acquire \"always\")\n",
    "-\t896 reefs (acquire from 2x to 6x each year)\n",
    "-\t30 fire-impacted areas (acquire \"always\")\n",
    "-\t1392 land ice scenes other than Antarctica (acquire once during certain months)\n",
    "-\t3601 Antarctica scenes (acquire once during Jan-Feb)\n",
    "-\t60 oceanic islands (acquire twice each year)\n",
    "-\t1175 rainforest areas (acquire \"always\" all year)\n",
    "-\t352 sea ice scenes (acquire from 1x to 3x each year)\n",
    "-\t11 Siberia scenes (acquire \"always\" over 9 months)\n",
    "-\t72 volcanoes (acquire from 2x to 12x during year, including night)\n",
    "\n",
    "An acquisition request is granted a priority increase as a function of the number of consecutive past cycles in which the opportunity to acquire the requested scene was not fulfilled. For example, if the last successfully acquired image of a scene was 48 days ago, then a request for this scene is granted a priority increase based on two missed opportunities from 32 and 16 days ago. In addition, all new requests submitted when an acquisition window opens are also given a priority increase to help them compete with established requests.\n",
    "\n",
    "As the map below shows, the number of acquisitions vary between regions. The maximum number of a particular scene collected over a whole year is only 23, instead of the maximum possible 248 acquisitions. (*Question: How will it affect the data analysis? Apparently, less than 1 in 10 time points will have any data. Is that true?*)\n",
    "\n",
    "<img src=\"Landsat7_acquisitions.png\">\n",
    "\n",
    "Figure 4. Landsat 7 ETM+ scenes acquired in 2016<sup>[[5](https://landsat.usgs.gov/LTAP7)]</sup>\n"
   ]
  },
  {
   "cell_type": "markdown",
   "metadata": {},
   "source": [
    "## More technical details for the inquisitive\n",
    "(<a href=\"#expert\"><b>Skip it!</b></a>)\n",
    "\n",
    "### Scan Line Corrector\n",
    "\n",
    "The Scan Line Corrector (SLC<sup>[[5](https://landsat.usgs.gov/landsat-7-data-users-handbook-section-2)]</sup>) is an electro-optical mechanism composed of two parallel mirrors set at an angle on a shaft. The SLC is positioned behind the primary optics and compensates for the along-track motion of the spacecraft occurring during an active SMA cross-track scan. As a result, a rectilinear scan pattern is produced using the SLC instead of the zigzag pattern that would be produced without it (see Fig 5).\n",
    "\n",
    "<img src=\"scan_line_corrector.jpg\">\n",
    "\n",
    "Fig 5. ETM+ scan line corrector (SLC) effect.\n",
    "\n",
    "What causes the above can be explained as below. \n",
    "\n",
    "A scan takes 143 milliseconds. The satellite is moving at 7.5 km per second and, hence, during the scan from left to right (or vice versa) of the swath, it has travelled 1.07 km and the line is not horizontal but is slanted up or down. The SLC is presumably tilting the sensor in the opposite direction to make it a horizontal line. Without it, a zig-zag pattern results, and about 22% of data is lost. The software-mediated compensation is by interpolating the missing data.\n",
    "\n",
    "On May 31, 2003, the SLC failed. Subsequent efforts to recover the SLC were not successful, and the problem is permanent for the mission. Without an operating SLC, the ETM+ line of sight now traces a zig-zag pattern along the satellite ground track (see Fig 5 above) resulting in wedge shaped scan-to-scan gaps (and alternating overlap areas) which increase in magnitude away from nadir. Despite the SLC failure, Landsat 7 ETM+ is still capable of acquiring useful image data with the SLC turned off (SLC-off), particularly within the central portion of any given scene (Fig 6 below). Various interpolation and compositing techniques were investigated to expand the coverage of useful data.\n",
    "\n",
    "<img src=\"scan_line_corrected_image.jpg\">\n",
    "\n",
    "Fig 6. The top image shows a subset of a SLC-on scene. The middle, a scene from the same area after the SLC failed. The bottom image shows the middle image, after the SLC gaps were largely filled by interpolation.\n",
    "\n",
    "\n"
   ]
  },
  {
   "cell_type": "markdown",
   "metadata": {},
   "source": [
    "### Spacecraft Overview\n",
    "The Landsat 7 platform provides a variety of elements necessary for mission success, including power, orbit and attitude control, telemetry and communications, and data storage and transmission capabilities for the ETM+ sensor. Wideband communications for payload data transmission to the ground incorporates four **X-band transmitters**, switchable to three steerable antennas. Also, an on-board Solid State Recorder (SSR) is used to store imagery when out of view of ground stations, for subsequent transmission to the ground when the satellite is back within a station's view.<sup>[[6](https://landsat.usgs.gov/landsat-7-data-users-handbook-section-2)]</sup>.\n",
    "\n",
    "### Ground System\n",
    "The Landsat 7 ground system consists of both Landsat 7 unique components as well as institutional services. The Landsat 7 unique components include the Mission Operations Center (MOC), the Landsat Ground Network (LGN), the Landsat Processing System (LPS), the Landsat Product Generation System (LPGS), the Image Assessment System (IAS) - both explained in Section 5), the Landsat Archive Manager (LAM), and a number of international ground stations (IGS).\n",
    "\n",
    "The ground system context diagram in Figure 7 below illustrates both the unique and institutional components and their data flow relationships from the satellite to the end-users of the data.\n",
    "\n",
    "<img src=\"end-to-end-data-flow.jpg\">\n",
    "Figure 7. Landsat 7 end-to-end data flow\n",
    "\n",
    "#### Mission Operations Center (MOC)\n",
    "The Mission Operations Center (MOC), located at NASA Goddard Space Flight Center (GSFC), is the focal point for all space vehicle operations.\n",
    "\n",
    "#### Landsat Ground Network (LGN)\n",
    "\n",
    "The Landsat 7 Ground Network includes five stations:\n",
    "\n",
    "- LGS - Landsat Ground Station, Sioux Falls, South Dakota, USA\n",
    "- SGS - Svalbard Ground Station, Svalbard, Norway\n",
    "- ASN - Australian Ground Station, Alice Springs, Australia\n",
    "- CUB - Brazil Ground Station, Cuiaba, Brazil\n",
    "- NP - North Pole Ground Station (NP3 and NP4), North Pole, Alaska, USA\n",
    "\n",
    "These ground stations are receiving sites for the X-band downlinks of ETM+ science data from the satellite. They acquire and record both real-time and playback ETM+ wideband data directly from the Landsat 7 spacecraft by way of one or two 150 megabit-per-second (Mbps) X-band return links, each at a different frequency. \n",
    "\n",
    "<img src=\"ground_stations.jpg\">\n",
    "Figure 8. Historical International Ground Stations (above) and (below) Active Landsat Ground Stations, circa 2017\n",
    "\n",
    "#### Landsat Processing System (LPS)\n",
    "\n",
    "The Landsat Processing System (LPS) records all wideband data, at real-time rates, into its wideband data stores. An I-Q channel pair represents a complete data set. One channel holds Bands 1 through 6, and the other holds Bands 7 and 8 and the second gain setting from Band 6. \n"
   ]
  },
  {
   "cell_type": "markdown",
   "metadata": {},
   "source": [
    "## Data Properties\n",
    "(<a href=\"#expert\"><b>Skip it!</b></a>)\n",
    "\n",
    "This section is to briefly describe how the data is collected and used to identify Earth surface targets.\n",
    "\n",
    "### Scientific Theory of Measurements<sup>([7](https://landsat.usgs.gov/landsat-7-data-users-handbook-section-5))</sup>\n",
    "\n",
    "When solar energy strikes an object, five types of interaction are possible and in most cases, multiple interactions occur at the same time. The energy can be:\n",
    "\n",
    "1. **Transmitted** - The energy passes through with a change in velocity as determined by the index of refraction for the two media in question.\n",
    "\n",
    "2. **Absorbed** - The energy is given up to the object through electron or molecular reactions and the object heats up as a result of this process.\n",
    "\n",
    "3. **Reflected** - The energy is returned unchanged with the angle of incidence equal to the angle of reflection. Reflectance is the ratio of reflected energy to the total amount incident on a body. The wavelength of the reflected energy (not absorbed) determines the color of an object.\n",
    "\n",
    "4. **Scattered** - The direction of energy propagation is randomly changed. Rayleigh and Mie scatter are the two most important types of scatter in the atmosphere.\n",
    "\n",
    "5. **Emitted** - In this case, the incident solar energy is first absorbed, and then re-emitted, usually at longer wavelengths. The object also heats up due to this process.\n",
    "\n",
    "\n",
    "The Landsat 7 system is designed to collect seven bands or channels of reflected energy and one channel of emitted energy (see Table 2). \n",
    "\n",
    "\n",
    "| Band | Wavelenth (µm) | Resolution (meters) |\n",
    "| -----|----------------|---------------------|\n",
    "|1 | 0.450 - 0.515 | 30 |\n",
    "|2 |0.525 - 0.605 |30| \n",
    "|3 |0.630 - 0.690 |30| \n",
    "|4 |0.775 - 0.900 |30| \n",
    "|5 |1.550 - 1.750 |30| \n",
    "|6 |10.40 - 12.50 |60*| \n",
    "|7 |2.080 - 2.350 |30| \n",
    "|9 |0.520 - 0.900 |15| \n",
    "\n",
    "Table 2. Landsat 7 ETM+ Band Wavelengths and Resolution\n",
    "\n",
    "A plot of the collective response of scattered, emitted, reflected, and absorbed radiation at specific wavelengths of the electromagnetic spectrum should, according to the basic premise, result in a unique curve, or spectral signature that is diagnostic of the object or class of objects. A signature on such a graph can be defined as reflectance as a function of wavelength. Four such signatures are illustrated in Figure 9 below.\n",
    "\n",
    "<img src=\"spectral_signature.jpg\">\n",
    "Figure 9. A plot of the spectral reflectance curves of four different Earth surface targets\n",
    "\n"
   ]
  },
  {
   "cell_type": "markdown",
   "metadata": {},
   "source": [
    "## Data corrections\n",
    "There are two corrections applied to the Landsat data:\n",
    "\n",
    "**NBAR** (e.g. green)\n",
    "\n",
    "NBAR stands for Nadir-corrected BRDF Adjusted Reflectance, where ***BRDF*** stands for Bidirectional reflectance distribution function The approach involves atmospheric correction to compute surface-leaving radiance, and bi-directional reflectance modelling to remove the effects of topography and angular variation in reflectance.\n",
    "\n",
    "**T_NBAR** (e.g. t_green)\n",
    "\n",
    "Surface reflectance T_NBAR includes the terrain illumination reflectance correction and has the same features of NBAR, along with some additional features.\n",
    "\n",
    "Note that the t_nbar data insert a missing value (-9999) into the dataset to denote a terrain shadow. This should be converted to a NaN value before using this data to avoid treating it as a valid value."
   ]
  },
  {
   "cell_type": "markdown",
   "metadata": {},
   "source": [
    "<a name=\"expert\"></a>\n",
    "\n",
    "------------------------\n",
    "\n",
    "## Retrieve and examine the data"
   ]
  },
  {
   "cell_type": "markdown",
   "metadata": {},
   "source": [
    "## See what Landsat products are currently available"
   ]
  },
  {
   "cell_type": "markdown",
   "metadata": {},
   "source": [
    "## Now we want to actually load and look at some data¶"
   ]
  },
  {
   "cell_type": "markdown",
   "metadata": {},
   "source": [
    "## See what came back from the extraction¶"
   ]
  },
  {
   "cell_type": "markdown",
   "metadata": {},
   "source": [
    "## About Landsat bands¶\n"
   ]
  },
  {
   "cell_type": "markdown",
   "metadata": {},
   "source": [
    "## Plot this scene up as true colour image¶\n"
   ]
  },
  {
   "cell_type": "markdown",
   "metadata": {},
   "source": [
    "## Plot this scene up as false colour image¶\n"
   ]
  },
  {
   "cell_type": "markdown",
   "metadata": {},
   "source": [
    "## Compare some scenes side-by-side¶\n"
   ]
  },
  {
   "cell_type": "markdown",
   "metadata": {},
   "source": [
    "## Filter scenes using pixel quality¶\n"
   ]
  },
  {
   "cell_type": "markdown",
   "metadata": {},
   "source": [
    "## Here is the cloudy image we would like to mask¶\n"
   ]
  },
  {
   "cell_type": "markdown",
   "metadata": {},
   "source": [
    "## Plot up the pixel quality information for the same scene¶\n"
   ]
  },
  {
   "cell_type": "markdown",
   "metadata": {},
   "source": [
    "## Now use the pixel quality information to create a mask, and apply it to the spectral data¶\n"
   ]
  },
  {
   "cell_type": "markdown",
   "metadata": {},
   "source": [
    "## -- End of page --"
   ]
  }
 ],
 "metadata": {
  "kernelspec": {
   "display_name": "Python 3",
   "language": "python",
   "name": "python3"
  },
  "language_info": {
   "codemirror_mode": {
    "name": "ipython",
    "version": 3
   },
   "file_extension": ".py",
   "mimetype": "text/x-python",
   "name": "python",
   "nbconvert_exporter": "python",
   "pygments_lexer": "ipython3",
   "version": "3.6.5"
  }
 },
 "nbformat": 4,
 "nbformat_minor": 2
}
